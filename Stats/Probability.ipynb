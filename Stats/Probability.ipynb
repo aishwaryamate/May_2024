{
 "cells": [
  {
   "cell_type": "code",
   "execution_count": 1,
   "id": "3bcdd551-6cd6-49dd-8be5-964c44f0c17d",
   "metadata": {},
   "outputs": [
    {
     "name": "stdout",
     "output_type": "stream",
     "text": [
      "Requirement already satisfied: scipy in c:\\users\\excel\\anaconda3\\lib\\site-packages (1.11.4)\n",
      "Requirement already satisfied: numpy<1.28.0,>=1.21.6 in c:\\users\\excel\\anaconda3\\lib\\site-packages (from scipy) (1.26.4)\n"
     ]
    }
   ],
   "source": [
    "!pip install scipy"
   ]
  },
  {
   "cell_type": "code",
   "execution_count": 3,
   "id": "c3b63fa1-deb2-48d2-a801-4d66c55e23f5",
   "metadata": {},
   "outputs": [],
   "source": [
    "import scipy"
   ]
  },
  {
   "cell_type": "code",
   "execution_count": 5,
   "id": "8519f146-6da7-4f91-bf60-49b4428b5a96",
   "metadata": {},
   "outputs": [
    {
     "data": {
      "text/plain": [
       "0.8413447460685429"
      ]
     },
     "execution_count": 5,
     "metadata": {},
     "output_type": "execute_result"
    }
   ],
   "source": [
    "scipy.stats.norm.cdf(70,60,10)"
   ]
  },
  {
   "cell_type": "code",
   "execution_count": 6,
   "id": "9edeef0d-47ee-4c32-8860-4420b892127e",
   "metadata": {},
   "outputs": [
    {
     "data": {
      "text/plain": [
       "0.14254260383881612"
      ]
     },
     "execution_count": 6,
     "metadata": {},
     "output_type": "execute_result"
    }
   ],
   "source": [
    "scipy.stats.norm.cdf(680,711,29)"
   ]
  },
  {
   "cell_type": "code",
   "execution_count": 7,
   "id": "540fe39b-0d74-4cee-9885-e7cb9a6e0875",
   "metadata": {},
   "outputs": [
    {
     "data": {
      "text/plain": [
       "0.8574573961611839"
      ]
     },
     "execution_count": 7,
     "metadata": {},
     "output_type": "execute_result"
    }
   ],
   "source": [
    "1 - scipy.stats.norm.cdf(680,711,29)"
   ]
  },
  {
   "cell_type": "markdown",
   "id": "5a697e43-b0d7-4600-b128-980a62a63b42",
   "metadata": {},
   "source": [
    "1. What is the probabilty that randomly selected student's marks will be less than 720?\n",
    "2. Probability that marks will be greater than 750?\n",
    "3. Probablity that marks will be 720?"
   ]
  },
  {
   "cell_type": "code",
   "execution_count": null,
   "id": "140c463e-24fd-4dd8-bd00-4c61f0873479",
   "metadata": {},
   "outputs": [],
   "source": []
  }
 ],
 "metadata": {
  "kernelspec": {
   "display_name": "Python 3 (ipykernel)",
   "language": "python",
   "name": "python3"
  },
  "language_info": {
   "codemirror_mode": {
    "name": "ipython",
    "version": 3
   },
   "file_extension": ".py",
   "mimetype": "text/x-python",
   "name": "python",
   "nbconvert_exporter": "python",
   "pygments_lexer": "ipython3",
   "version": "3.11.7"
  }
 },
 "nbformat": 4,
 "nbformat_minor": 5
}
