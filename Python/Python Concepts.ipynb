{
 "cells": [
  {
   "cell_type": "markdown",
   "id": "bd5dcbd6",
   "metadata": {},
   "source": [
    "# Variables\n",
    "- Variables acts as container space to store any data.\n",
    "- It helps us to assign a memory location to a value which can be called whenever we want that value.\n",
    "- Variables should always start with either letter or _.\n",
    "- Numbers cannot br added at start.\n",
    "- Special characters are not allowed in variables.\n",
    "    - If your variables name contains more than single word, join those words with _.\n",
    "    - Always give name which is meaningful.\n",
    "    - Python is case sensitive."
   ]
  },
  {
   "cell_type": "code",
   "execution_count": null,
   "id": "e014112d",
   "metadata": {},
   "outputs": [],
   "source": [
    "a = 49849864\n",
    "a-2"
   ]
  },
  {
   "cell_type": "code",
   "execution_count": null,
   "id": "7caba021",
   "metadata": {},
   "outputs": [],
   "source": [
    "#1b = 987981    #Comment\n",
    "b1 = 345684\n",
    "b1"
   ]
  },
  {
   "cell_type": "code",
   "execution_count": null,
   "id": "0d460639",
   "metadata": {},
   "outputs": [],
   "source": [
    "$xyz = 876     #Special characters are not allowed."
   ]
  },
  {
   "cell_type": "code",
   "execution_count": null,
   "id": "482812f5",
   "metadata": {},
   "outputs": [],
   "source": [
    "# first name = 'Ankush'\n",
    "firstname = 'Ankush'\n",
    "first_name = 'Nikita'\n",
    "\n",
    "first_name,firstname"
   ]
  },
  {
   "cell_type": "code",
   "execution_count": null,
   "id": "39ec0b55",
   "metadata": {},
   "outputs": [],
   "source": [
    "integer = 100\n",
    "continous = 45.2    #float\n",
    "string = 'Python'   #text\n",
    "boolean = False"
   ]
  },
  {
   "cell_type": "code",
   "execution_count": null,
   "id": "5aaff6a2",
   "metadata": {},
   "outputs": [],
   "source": [
    "integer\n",
    "continous\n",
    "string"
   ]
  },
  {
   "cell_type": "code",
   "execution_count": null,
   "id": "060128b1",
   "metadata": {},
   "outputs": [],
   "source": [
    "print(integer)\n",
    "print(continous)\n",
    "print(string)\n",
    "print(boolean)"
   ]
  },
  {
   "cell_type": "code",
   "execution_count": null,
   "id": "81e48955-5772-4679-bfa5-760422453cbd",
   "metadata": {},
   "outputs": [],
   "source": [
    "print(type(integer))\n",
    "type(boolean)"
   ]
  },
  {
   "cell_type": "markdown",
   "id": "f7924606",
   "metadata": {},
   "source": [
    "# Data Structures\n",
    "\n",
    "- Data structures act as container/storage space to store multiple values in one variable.\n",
    "- Python has 4 built in data structures.\n",
    "    - They are as follows:\n",
    "        - Lists\n",
    "        - Tuple\n",
    "        - Dictionary\n",
    "        - Sets"
   ]
  },
  {
   "cell_type": "code",
   "execution_count": null,
   "id": "43f106d8",
   "metadata": {},
   "outputs": [],
   "source": [
    "#Lists\n",
    "lst = [10,10.2,'Python class',False]\n",
    "lst\n",
    "type(lst)"
   ]
  },
  {
   "cell_type": "code",
   "execution_count": null,
   "id": "b20214e8",
   "metadata": {},
   "outputs": [],
   "source": [
    "#Tuple\n",
    "\n",
    "t = (14,12,'Python',True,10.2)\n",
    "print(t)\n",
    "type(t)"
   ]
  },
  {
   "cell_type": "code",
   "execution_count": null,
   "id": "2755b259",
   "metadata": {},
   "outputs": [],
   "source": [
    "#Dictionary \n",
    "\n",
    "dictionary = {'name':'Anit','age':52,'location':'Mumbai'}\n",
    "print(dictionary)\n",
    "type(dictionary)"
   ]
  },
  {
   "cell_type": "code",
   "execution_count": null,
   "id": "7b24d85a",
   "metadata": {},
   "outputs": [],
   "source": [
    "#Sets\n",
    "\n",
    "set1 = {10,20,133256.2,'Machine'}\n",
    "set1\n",
    "type(set1)"
   ]
  },
  {
   "cell_type": "code",
   "execution_count": null,
   "id": "8a8eb541",
   "metadata": {},
   "outputs": [],
   "source": [
    "s = {10, True, 'Anit'}\n",
    "print(s)\n",
    "type(s)"
   ]
  },
  {
   "cell_type": "markdown",
   "id": "eacdc4d1",
   "metadata": {},
   "source": [
    "# List functions"
   ]
  },
  {
   "cell_type": "code",
   "execution_count": null,
   "id": "cb9c73d5",
   "metadata": {},
   "outputs": [],
   "source": [
    "lst = [10,12,1.3,'Python',False]\n",
    "lst"
   ]
  },
  {
   "cell_type": "code",
   "execution_count": null,
   "id": "3e3968a9",
   "metadata": {},
   "outputs": [],
   "source": [
    "lst[3]"
   ]
  },
  {
   "cell_type": "code",
   "execution_count": null,
   "id": "219fe2b6",
   "metadata": {},
   "outputs": [],
   "source": [
    "lst[0]"
   ]
  },
  {
   "cell_type": "code",
   "execution_count": null,
   "id": "2c4ef4fa-a48c-41a3-9744-054b70d99c19",
   "metadata": {},
   "outputs": [],
   "source": [
    "lst"
   ]
  },
  {
   "cell_type": "code",
   "execution_count": null,
   "id": "984af594-8cd5-4fe6-9aa5-a82012b1e6fe",
   "metadata": {},
   "outputs": [],
   "source": [
    "append(10)"
   ]
  },
  {
   "cell_type": "code",
   "execution_count": null,
   "id": "d5b74065",
   "metadata": {},
   "outputs": [],
   "source": [
    "#Add\n",
    "lst.append('Machine Learning')"
   ]
  },
  {
   "cell_type": "code",
   "execution_count": null,
   "id": "46a90ced",
   "metadata": {},
   "outputs": [],
   "source": [
    "lst"
   ]
  },
  {
   "cell_type": "code",
   "execution_count": null,
   "id": "783f155d",
   "metadata": {},
   "outputs": [],
   "source": [
    "lst.append(41,45)"
   ]
  },
  {
   "cell_type": "code",
   "execution_count": null,
   "id": "6556b146",
   "metadata": {},
   "outputs": [],
   "source": [
    "lst.append(45)\n",
    "lst"
   ]
  },
  {
   "cell_type": "code",
   "execution_count": null,
   "id": "6f4d7a0f",
   "metadata": {},
   "outputs": [],
   "source": [
    "lst.insert(2,'Deep learning')"
   ]
  },
  {
   "cell_type": "code",
   "execution_count": null,
   "id": "5c6e6cab",
   "metadata": {},
   "outputs": [],
   "source": [
    "lst"
   ]
  },
  {
   "cell_type": "code",
   "execution_count": null,
   "id": "4d4e9292",
   "metadata": {},
   "outputs": [],
   "source": [
    "lst.extend([100,500,'Stats'])"
   ]
  },
  {
   "cell_type": "code",
   "execution_count": null,
   "id": "f1bc60a9",
   "metadata": {},
   "outputs": [],
   "source": [
    "lst"
   ]
  },
  {
   "cell_type": "code",
   "execution_count": null,
   "id": "df18e54b",
   "metadata": {},
   "outputs": [],
   "source": [
    "#Remove"
   ]
  },
  {
   "cell_type": "code",
   "execution_count": null,
   "id": "fa054f03",
   "metadata": {},
   "outputs": [],
   "source": [
    "lst"
   ]
  },
  {
   "cell_type": "code",
   "execution_count": null,
   "id": "cf59db0a",
   "metadata": {},
   "outputs": [],
   "source": [
    "lst.pop()"
   ]
  },
  {
   "cell_type": "code",
   "execution_count": null,
   "id": "5dce4de6",
   "metadata": {},
   "outputs": [],
   "source": [
    "lst"
   ]
  },
  {
   "cell_type": "code",
   "execution_count": null,
   "id": "79291ea5",
   "metadata": {},
   "outputs": [],
   "source": [
    "lst.pop(0)"
   ]
  },
  {
   "cell_type": "code",
   "execution_count": null,
   "id": "88b371bb",
   "metadata": {},
   "outputs": [],
   "source": [
    "lst"
   ]
  },
  {
   "cell_type": "code",
   "execution_count": null,
   "id": "9706df25-d260-4eb4-b298-f967f5b7da2d",
   "metadata": {},
   "outputs": [],
   "source": [
    "lst.pop(2)\n",
    "lst"
   ]
  },
  {
   "cell_type": "code",
   "execution_count": null,
   "id": "2c53396c",
   "metadata": {},
   "outputs": [],
   "source": [
    "lst.remove(45)"
   ]
  },
  {
   "cell_type": "code",
   "execution_count": null,
   "id": "88972d86",
   "metadata": {},
   "outputs": [],
   "source": [
    "lst"
   ]
  },
  {
   "cell_type": "code",
   "execution_count": null,
   "id": "760a62b6",
   "metadata": {},
   "outputs": [],
   "source": [
    "#Replace"
   ]
  },
  {
   "cell_type": "code",
   "execution_count": null,
   "id": "b636b3f9",
   "metadata": {},
   "outputs": [],
   "source": [
    "lst"
   ]
  },
  {
   "cell_type": "code",
   "execution_count": null,
   "id": "c3a0079c",
   "metadata": {},
   "outputs": [],
   "source": [
    "lst[1]"
   ]
  },
  {
   "cell_type": "code",
   "execution_count": null,
   "id": "18c7d03c",
   "metadata": {},
   "outputs": [],
   "source": [
    "lst[1] = 5000"
   ]
  },
  {
   "cell_type": "code",
   "execution_count": null,
   "id": "3ba15ba0-47e7-4c0f-958a-cf019ebb085b",
   "metadata": {},
   "outputs": [],
   "source": [
    "lst[5] = 1000\n",
    "lst"
   ]
  },
  {
   "cell_type": "code",
   "execution_count": null,
   "id": "53aa16ce-1295-4d15-b37c-1a2c369a8d0f",
   "metadata": {},
   "outputs": [],
   "source": [
    "lst.index(500)"
   ]
  },
  {
   "cell_type": "markdown",
   "id": "b140965c",
   "metadata": {},
   "source": [
    "# Conditional Statements\n",
    "\n",
    "- In programming, when we need to get output based on certain conditions, to specify those conditions, we make use of conditional statements.\n",
    "- In python, there are 3 conditional statements are there:\n",
    "    - if\n",
    "    - elif\n",
    "    - else"
   ]
  },
  {
   "cell_type": "code",
   "execution_count": null,
   "id": "be078db5",
   "metadata": {},
   "outputs": [],
   "source": [
    "a = 1\n",
    "b = 10\n",
    "\n",
    "a < b"
   ]
  },
  {
   "cell_type": "code",
   "execution_count": 59,
   "id": "ecfddbdc",
   "metadata": {},
   "outputs": [
    {
     "name": "stdout",
     "output_type": "stream",
     "text": [
      "Logged in\n"
     ]
    }
   ],
   "source": [
    "#if\n",
    "\n",
    "saved_password = 1010\n",
    "new_pass = 1010\n",
    "\n",
    "if saved_password == new_pass:\n",
    "    print('Logged in')"
   ]
  },
  {
   "cell_type": "code",
   "execution_count": 61,
   "id": "9873c423",
   "metadata": {},
   "outputs": [
    {
     "name": "stdout",
     "output_type": "stream",
     "text": [
      "Try again\n"
     ]
    }
   ],
   "source": [
    "saved_password = 1010\n",
    "new_pass = 1012\n",
    "\n",
    "if saved_password == new_pass:\n",
    "    print('Access given')\n",
    "else:\n",
    "    print('Try again')"
   ]
  },
  {
   "cell_type": "code",
   "execution_count": null,
   "id": "9bad48f4",
   "metadata": {},
   "outputs": [],
   "source": [
    "#Elif\n",
    "\n",
    "#age < 5 : ticket price $2\n",
    "#age < 18 : ticket price $7\n",
    "#age < 60 : ticket price $25\n",
    "#age > 60 :ticket price $15\n",
    "\n",
    "age = int(input('Enter your age: '))\n",
    "\n",
    "if age < 5:\n",
    "    print('$2')\n",
    "elif age < 18:\n",
    "    print('$7')\n",
    "elif age < 60:\n",
    "    print('$25')\n",
    "else:\n",
    "    print('$15')"
   ]
  },
  {
   "cell_type": "markdown",
   "id": "719d1d62",
   "metadata": {},
   "source": [
    "# For loop\n",
    "\n",
    "- Loops in python are used to do any similar task multiple times."
   ]
  },
  {
   "cell_type": "code",
   "execution_count": null,
   "id": "5587acdc",
   "metadata": {},
   "outputs": [],
   "source": [
    "#Get the list of values from 0 to 100\n"
   ]
  },
  {
   "cell_type": "code",
   "execution_count": null,
   "id": "63993c4d",
   "metadata": {},
   "outputs": [],
   "source": [
    "lst = [1,2,5,6,9,7,4,5,6,55,4,7,8,9,154,4,454]\n",
    "\n",
    "for i in lst:\n",
    "    print(i)"
   ]
  },
  {
   "cell_type": "code",
   "execution_count": null,
   "id": "65191684",
   "metadata": {},
   "outputs": [],
   "source": [
    "for i in lst:\n",
    "    print(i**2)"
   ]
  },
  {
   "cell_type": "code",
   "execution_count": null,
   "id": "c7d44530",
   "metadata": {},
   "outputs": [],
   "source": [
    "#Sting concatenation\n",
    "\n",
    "word1 = 'Python'\n",
    "word2 = 'Session'\n",
    "word1+' '+word2"
   ]
  },
  {
   "cell_type": "code",
   "execution_count": null,
   "id": "d1109c72",
   "metadata": {},
   "outputs": [],
   "source": [
    "company = ['amazon','flipkart','excelr','myntra','samsung','apple']\n",
    "company"
   ]
  },
  {
   "cell_type": "code",
   "execution_count": null,
   "id": "ca673eff",
   "metadata": {},
   "outputs": [],
   "source": [
    "for i in company:\n",
    "    print('www.'+i+'.com')"
   ]
  },
  {
   "cell_type": "markdown",
   "id": "76dbbacd",
   "metadata": {},
   "source": [
    "- Separetly store all even values in list called as even.\n",
    "- store aall odd numbers in diff list called as odd.\n",
    "- range 0,500"
   ]
  },
  {
   "cell_type": "code",
   "execution_count": null,
   "id": "6f1dcd66",
   "metadata": {},
   "outputs": [],
   "source": [
    "range(0,501)"
   ]
  },
  {
   "cell_type": "code",
   "execution_count": null,
   "id": "a3134bf6",
   "metadata": {},
   "outputs": [],
   "source": [
    "for i in range(0,501):\n",
    "    print(i)"
   ]
  },
  {
   "cell_type": "code",
   "execution_count": null,
   "id": "7055e17a",
   "metadata": {},
   "outputs": [],
   "source": [
    "even = []\n",
    "odd = []\n",
    "\n",
    "for i in range(0,501):\n",
    "    if i%2 == 0:\n",
    "        even.append(i)\n",
    "    else:\n",
    "        odd.append(i)     "
   ]
  },
  {
   "cell_type": "code",
   "execution_count": null,
   "id": "3c62cc68",
   "metadata": {},
   "outputs": [],
   "source": [
    "even"
   ]
  },
  {
   "cell_type": "code",
   "execution_count": null,
   "id": "e43b3b39",
   "metadata": {},
   "outputs": [],
   "source": [
    "odd"
   ]
  },
  {
   "cell_type": "markdown",
   "id": "708b3f2a",
   "metadata": {},
   "source": [
    "# Functions\n",
    "\n",
    "- Python supports two types of function:\n",
    "    - Built in\n",
    "    - User defined"
   ]
  },
  {
   "cell_type": "code",
   "execution_count": null,
   "id": "0ebd31e3",
   "metadata": {},
   "outputs": [],
   "source": [
    "print(78)"
   ]
  },
  {
   "cell_type": "code",
   "execution_count": null,
   "id": "ec903f4d",
   "metadata": {},
   "outputs": [],
   "source": [
    "def greet():\n",
    "    print('Hello User')"
   ]
  },
  {
   "cell_type": "code",
   "execution_count": null,
   "id": "55b756e7",
   "metadata": {},
   "outputs": [],
   "source": [
    "greet()"
   ]
  },
  {
   "cell_type": "code",
   "execution_count": null,
   "id": "3c6cd0b2",
   "metadata": {},
   "outputs": [],
   "source": [
    "def add():\n",
    "    print(5+357684)\n",
    "    \n",
    "add(10,5)"
   ]
  },
  {
   "cell_type": "code",
   "execution_count": null,
   "id": "f9f7e5da",
   "metadata": {},
   "outputs": [],
   "source": [
    "#With arguments\n",
    "\n",
    "def add(num1,num2):\n",
    "    print(num1+num2)"
   ]
  },
  {
   "cell_type": "code",
   "execution_count": null,
   "id": "dc9d611b",
   "metadata": {},
   "outputs": [],
   "source": [
    "add(68984,354688)"
   ]
  },
  {
   "cell_type": "markdown",
   "id": "d1bec664",
   "metadata": {},
   "source": [
    "# Format string"
   ]
  },
  {
   "cell_type": "code",
   "execution_count": null,
   "id": "f21ff249",
   "metadata": {},
   "outputs": [],
   "source": [
    "name = 'Ankit'\n",
    "age = 25\n",
    "location = \"pune\""
   ]
  },
  {
   "cell_type": "markdown",
   "id": "5e6a967f",
   "metadata": {},
   "source": [
    "- Print a sentence: Name of customer 'name'. He is 'age' yrs old. He lives in 'Location'"
   ]
  },
  {
   "cell_type": "code",
   "execution_count": null,
   "id": "6148e33b",
   "metadata": {},
   "outputs": [],
   "source": [
    "print('Name of customer name. He is age yrs old. He live in location.')\n",
    "print('Name of customer',name,'He is',age,'yrs old.','He lives in ',location)"
   ]
  },
  {
   "cell_type": "code",
   "execution_count": null,
   "id": "b3578a71",
   "metadata": {},
   "outputs": [],
   "source": [
    "#format string\n",
    "\n",
    "print(f\"Name of customer is {name}.He is {age} yrs old. He lives in {location} \")"
   ]
  },
  {
   "cell_type": "code",
   "execution_count": null,
   "id": "30662b39",
   "metadata": {},
   "outputs": [],
   "source": []
  }
 ],
 "metadata": {
  "kernelspec": {
   "display_name": "Python 3 (ipykernel)",
   "language": "python",
   "name": "python3"
  },
  "language_info": {
   "codemirror_mode": {
    "name": "ipython",
    "version": 3
   },
   "file_extension": ".py",
   "mimetype": "text/x-python",
   "name": "python",
   "nbconvert_exporter": "python",
   "pygments_lexer": "ipython3",
   "version": "3.11.5"
  }
 },
 "nbformat": 4,
 "nbformat_minor": 5
}
