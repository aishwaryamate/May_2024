{
 "cells": [
  {
   "cell_type": "markdown",
   "id": "bd5dcbd6",
   "metadata": {},
   "source": [
    "# Variables\n",
    "- Variables acts as container space to store any data.\n",
    "- It helps us to assign a memory location to a value which can be called whenever we want that value.\n",
    "- Variables should always start with either letter or _.\n",
    "- Numbers cannot br added at start.\n",
    "- Special characters are not allowed in variables.\n",
    "    - If your variables name contains more than single word, join those words with _.\n",
    "    - Always give name which is meaningful.\n",
    "    - Python is case sensitive."
   ]
  },
  {
   "cell_type": "code",
   "execution_count": null,
   "id": "e014112d",
   "metadata": {},
   "outputs": [],
   "source": [
    "a = 49849864\n",
    "a-2"
   ]
  },
  {
   "cell_type": "code",
   "execution_count": null,
   "id": "7caba021",
   "metadata": {},
   "outputs": [],
   "source": [
    "#1b = 987981    #Comment\n",
    "b1 = 345684\n",
    "b1"
   ]
  },
  {
   "cell_type": "code",
   "execution_count": null,
   "id": "0d460639",
   "metadata": {},
   "outputs": [],
   "source": [
    "$xyz = 876     #Special characters are not allowed."
   ]
  },
  {
   "cell_type": "code",
   "execution_count": null,
   "id": "482812f5",
   "metadata": {},
   "outputs": [],
   "source": [
    "# first name = 'Ankush'\n",
    "firstname = 'Ankush'\n",
    "first_name = 'Nikita'\n",
    "\n",
    "first_name,firstname"
   ]
  },
  {
   "cell_type": "code",
   "execution_count": null,
   "id": "39ec0b55",
   "metadata": {},
   "outputs": [],
   "source": [
    "integer = 100\n",
    "continous = 45.2    #float\n",
    "string = 'Python'   #text\n",
    "boolean = False"
   ]
  },
  {
   "cell_type": "code",
   "execution_count": null,
   "id": "5aaff6a2",
   "metadata": {},
   "outputs": [],
   "source": [
    "integer\n",
    "continous\n",
    "string"
   ]
  },
  {
   "cell_type": "code",
   "execution_count": null,
   "id": "060128b1",
   "metadata": {},
   "outputs": [],
   "source": [
    "print(integer)\n",
    "print(continous)\n",
    "print(string)\n",
    "print(boolean)"
   ]
  },
  {
   "cell_type": "code",
   "execution_count": null,
   "id": "81e48955-5772-4679-bfa5-760422453cbd",
   "metadata": {},
   "outputs": [],
   "source": [
    "print(type(integer))\n",
    "type(boolean)"
   ]
  },
  {
   "cell_type": "markdown",
   "id": "f7924606",
   "metadata": {},
   "source": [
    "# Data Structures\n",
    "\n",
    "- Data structures act as container/storage space to store multiple values in one variable.\n",
    "- Python has 4 built in data structures.\n",
    "    - They are as follows:\n",
    "        - Lists\n",
    "        - Tuple\n",
    "        - Dictionary\n",
    "        - Sets"
   ]
  },
  {
   "cell_type": "code",
   "execution_count": null,
   "id": "43f106d8",
   "metadata": {},
   "outputs": [],
   "source": [
    "#Lists\n",
    "lst = [10,10.2,'Python class',False]\n",
    "lst\n",
    "type(lst)"
   ]
  },
  {
   "cell_type": "code",
   "execution_count": null,
   "id": "b20214e8",
   "metadata": {},
   "outputs": [],
   "source": [
    "#Tuple\n",
    "\n",
    "t = (14,12,'Python',True,10.2)\n",
    "print(t)\n",
    "type(t)"
   ]
  },
  {
   "cell_type": "code",
   "execution_count": null,
   "id": "2755b259",
   "metadata": {},
   "outputs": [],
   "source": [
    "#Dictionary \n",
    "\n",
    "dictionary = {'name':'Anit','age':52,'location':'Mumbai'}\n",
    "print(dictionary)\n",
    "type(dictionary)"
   ]
  },
  {
   "cell_type": "code",
   "execution_count": null,
   "id": "7b24d85a",
   "metadata": {},
   "outputs": [],
   "source": [
    "#Sets\n",
    "\n",
    "set1 = {10,20,133256.2,'Machine'}\n",
    "set1\n",
    "type(set1)"
   ]
  },
  {
   "cell_type": "code",
   "execution_count": null,
   "id": "8a8eb541",
   "metadata": {},
   "outputs": [],
   "source": [
    "s = {10, True, 'Anit'}\n",
    "print(s)\n",
    "type(s)"
   ]
  },
  {
   "cell_type": "markdown",
   "id": "eacdc4d1",
   "metadata": {},
   "source": [
    "# List functions"
   ]
  },
  {
   "cell_type": "code",
   "execution_count": null,
   "id": "cb9c73d5",
   "metadata": {},
   "outputs": [],
   "source": [
    "lst = [10,12,1.3,'Python',False]\n",
    "lst"
   ]
  },
  {
   "cell_type": "code",
   "execution_count": null,
   "id": "3e3968a9",
   "metadata": {},
   "outputs": [],
   "source": [
    "lst[3]"
   ]
  },
  {
   "cell_type": "code",
   "execution_count": null,
   "id": "219fe2b6",
   "metadata": {},
   "outputs": [],
   "source": [
    "lst[0]"
   ]
  },
  {
   "cell_type": "code",
   "execution_count": null,
   "id": "2c4ef4fa-a48c-41a3-9744-054b70d99c19",
   "metadata": {},
   "outputs": [],
   "source": [
    "lst"
   ]
  },
  {
   "cell_type": "code",
   "execution_count": null,
   "id": "984af594-8cd5-4fe6-9aa5-a82012b1e6fe",
   "metadata": {},
   "outputs": [],
   "source": [
    "append(10)"
   ]
  },
  {
   "cell_type": "code",
   "execution_count": null,
   "id": "d5b74065",
   "metadata": {},
   "outputs": [],
   "source": [
    "#Add\n",
    "lst.append('Machine Learning')"
   ]
  },
  {
   "cell_type": "code",
   "execution_count": null,
   "id": "46a90ced",
   "metadata": {},
   "outputs": [],
   "source": [
    "lst"
   ]
  },
  {
   "cell_type": "code",
   "execution_count": null,
   "id": "783f155d",
   "metadata": {},
   "outputs": [],
   "source": [
    "lst.append(41,45)"
   ]
  },
  {
   "cell_type": "code",
   "execution_count": null,
   "id": "6556b146",
   "metadata": {},
   "outputs": [],
   "source": [
    "lst.append(45)\n",
    "lst"
   ]
  },
  {
   "cell_type": "code",
   "execution_count": null,
   "id": "6f4d7a0f",
   "metadata": {},
   "outputs": [],
   "source": [
    "lst.insert(2,'Deep learning')"
   ]
  },
  {
   "cell_type": "code",
   "execution_count": null,
   "id": "5c6e6cab",
   "metadata": {},
   "outputs": [],
   "source": [
    "lst"
   ]
  },
  {
   "cell_type": "code",
   "execution_count": null,
   "id": "4d4e9292",
   "metadata": {},
   "outputs": [],
   "source": [
    "lst.extend([100,500,'Stats'])"
   ]
  },
  {
   "cell_type": "code",
   "execution_count": null,
   "id": "f1bc60a9",
   "metadata": {},
   "outputs": [],
   "source": [
    "lst"
   ]
  },
  {
   "cell_type": "code",
   "execution_count": null,
   "id": "df18e54b",
   "metadata": {},
   "outputs": [],
   "source": [
    "#Remove"
   ]
  },
  {
   "cell_type": "code",
   "execution_count": null,
   "id": "fa054f03",
   "metadata": {},
   "outputs": [],
   "source": [
    "lst"
   ]
  },
  {
   "cell_type": "code",
   "execution_count": null,
   "id": "cf59db0a",
   "metadata": {},
   "outputs": [],
   "source": [
    "lst.pop()"
   ]
  },
  {
   "cell_type": "code",
   "execution_count": null,
   "id": "5dce4de6",
   "metadata": {},
   "outputs": [],
   "source": [
    "lst"
   ]
  },
  {
   "cell_type": "code",
   "execution_count": null,
   "id": "79291ea5",
   "metadata": {},
   "outputs": [],
   "source": [
    "lst.pop(0)"
   ]
  },
  {
   "cell_type": "code",
   "execution_count": null,
   "id": "88b371bb",
   "metadata": {},
   "outputs": [],
   "source": [
    "lst"
   ]
  },
  {
   "cell_type": "code",
   "execution_count": null,
   "id": "9706df25-d260-4eb4-b298-f967f5b7da2d",
   "metadata": {},
   "outputs": [],
   "source": [
    "lst.pop(2)\n",
    "lst"
   ]
  },
  {
   "cell_type": "code",
   "execution_count": null,
   "id": "2c53396c",
   "metadata": {},
   "outputs": [],
   "source": [
    "lst.remove(45)"
   ]
  },
  {
   "cell_type": "code",
   "execution_count": null,
   "id": "88972d86",
   "metadata": {},
   "outputs": [],
   "source": [
    "lst"
   ]
  },
  {
   "cell_type": "code",
   "execution_count": null,
   "id": "760a62b6",
   "metadata": {},
   "outputs": [],
   "source": [
    "#Replace"
   ]
  },
  {
   "cell_type": "code",
   "execution_count": null,
   "id": "b636b3f9",
   "metadata": {},
   "outputs": [],
   "source": [
    "lst"
   ]
  },
  {
   "cell_type": "code",
   "execution_count": null,
   "id": "c3a0079c",
   "metadata": {},
   "outputs": [],
   "source": [
    "lst[1]"
   ]
  },
  {
   "cell_type": "code",
   "execution_count": null,
   "id": "18c7d03c",
   "metadata": {},
   "outputs": [],
   "source": [
    "lst[1] = 5000"
   ]
  },
  {
   "cell_type": "code",
   "execution_count": null,
   "id": "3ba15ba0-47e7-4c0f-958a-cf019ebb085b",
   "metadata": {},
   "outputs": [],
   "source": [
    "lst[5] = 1000\n",
    "lst"
   ]
  },
  {
   "cell_type": "code",
   "execution_count": null,
   "id": "53aa16ce-1295-4d15-b37c-1a2c369a8d0f",
   "metadata": {},
   "outputs": [],
   "source": [
    "lst.index(500)"
   ]
  },
  {
   "cell_type": "markdown",
   "id": "b140965c",
   "metadata": {},
   "source": [
    "# Conditional Statements\n",
    "\n",
    "- In programming, when we need to get output based on certain conditions, to specify those conditions, we make use of conditional statements.\n",
    "- In python, there are 3 conditional statements are there:\n",
    "    - if\n",
    "    - elif\n",
    "    - else"
   ]
  },
  {
   "cell_type": "code",
   "execution_count": 1,
   "id": "be078db5",
   "metadata": {},
   "outputs": [
    {
     "data": {
      "text/plain": [
       "True"
      ]
     },
     "execution_count": 1,
     "metadata": {},
     "output_type": "execute_result"
    }
   ],
   "source": [
    "a = 1\n",
    "b = 10\n",
    "\n",
    "a < b"
   ]
  },
  {
   "cell_type": "code",
   "execution_count": 2,
   "id": "ecfddbdc",
   "metadata": {},
   "outputs": [
    {
     "name": "stdout",
     "output_type": "stream",
     "text": [
      "Logged in\n"
     ]
    }
   ],
   "source": [
    "#if\n",
    "\n",
    "saved_password = 1010\n",
    "new_pass = 1010\n",
    "\n",
    "if saved_password == new_pass:\n",
    "    print('Logged in')"
   ]
  },
  {
   "cell_type": "code",
   "execution_count": 3,
   "id": "9873c423",
   "metadata": {},
   "outputs": [
    {
     "name": "stdout",
     "output_type": "stream",
     "text": [
      "Try again\n"
     ]
    }
   ],
   "source": [
    "saved_password = 1010\n",
    "new_pass = 1012\n",
    "\n",
    "if saved_password == new_pass:\n",
    "    print('Access given')\n",
    "else:\n",
    "    print('Try again')"
   ]
  },
  {
   "cell_type": "code",
   "execution_count": 14,
   "id": "2b9e70a0-a6d4-41ad-a0ff-395d9c382e79",
   "metadata": {},
   "outputs": [
    {
     "name": "stdin",
     "output_type": "stream",
     "text": [
      " 5\n"
     ]
    },
    {
     "data": {
      "text/plain": [
       "'5'"
      ]
     },
     "execution_count": 14,
     "metadata": {},
     "output_type": "execute_result"
    }
   ],
   "source": [
    "input()"
   ]
  },
  {
   "cell_type": "code",
   "execution_count": 17,
   "id": "4cfeef4c-2b8c-44ed-8db7-dca9463916dd",
   "metadata": {},
   "outputs": [
    {
     "name": "stdin",
     "output_type": "stream",
     "text": [
      "Enter your age:  65\n"
     ]
    }
   ],
   "source": [
    "abc = input('Enter your age: ')"
   ]
  },
  {
   "cell_type": "code",
   "execution_count": 18,
   "id": "8f645d2e-c886-4ad6-9ac7-57835d9adc2e",
   "metadata": {},
   "outputs": [
    {
     "data": {
      "text/plain": [
       "'65'"
      ]
     },
     "execution_count": 18,
     "metadata": {},
     "output_type": "execute_result"
    }
   ],
   "source": [
    "abc"
   ]
  },
  {
   "cell_type": "code",
   "execution_count": 21,
   "id": "ccf8190d-b492-439d-8736-b6460d5d2795",
   "metadata": {},
   "outputs": [
    {
     "data": {
      "text/plain": [
       "str"
      ]
     },
     "execution_count": 21,
     "metadata": {},
     "output_type": "execute_result"
    }
   ],
   "source": [
    "type(abc)"
   ]
  },
  {
   "cell_type": "code",
   "execution_count": 23,
   "id": "eb0cea0e-9e18-4140-a9cc-a030530eb2f7",
   "metadata": {},
   "outputs": [
    {
     "data": {
      "text/plain": [
       "int"
      ]
     },
     "execution_count": 23,
     "metadata": {},
     "output_type": "execute_result"
    }
   ],
   "source": [
    "xyz = int(abc)\n",
    "\n",
    "type(xyz)"
   ]
  },
  {
   "cell_type": "code",
   "execution_count": 20,
   "id": "7842da25-7c61-4f7c-a63d-7f8611dfdc38",
   "metadata": {},
   "outputs": [
    {
     "ename": "TypeError",
     "evalue": "'<=' not supported between instances of 'str' and 'int'",
     "output_type": "error",
     "traceback": [
      "\u001b[1;31m---------------------------------------------------------------------------\u001b[0m",
      "\u001b[1;31mTypeError\u001b[0m                                 Traceback (most recent call last)",
      "Cell \u001b[1;32mIn[20], line 1\u001b[0m\n\u001b[1;32m----> 1\u001b[0m \u001b[38;5;124m'\u001b[39m\u001b[38;5;124mpython\u001b[39m\u001b[38;5;124m'\u001b[39m  \u001b[38;5;241m<\u001b[39m\u001b[38;5;241m=\u001b[39m   \u001b[38;5;241m52\u001b[39m\n",
      "\u001b[1;31mTypeError\u001b[0m: '<=' not supported between instances of 'str' and 'int'"
     ]
    }
   ],
   "source": [
    "'python'  <=   52"
   ]
  },
  {
   "cell_type": "code",
   "execution_count": 26,
   "id": "9bad48f4",
   "metadata": {},
   "outputs": [
    {
     "name": "stdin",
     "output_type": "stream",
     "text": [
      "Enter your age:  45\n"
     ]
    },
    {
     "name": "stdout",
     "output_type": "stream",
     "text": [
      "$25\n"
     ]
    }
   ],
   "source": [
    "#Elif\n",
    "\n",
    "#age < 5 : ticket price $2\n",
    "#age < 18 : ticket price $7\n",
    "#age < 60 : ticket price $25\n",
    "#age > 60 :ticket price $15\n",
    "\n",
    "age = int(input('Enter your age: '))\n",
    "\n",
    "if age <= 5:\n",
    "    print('$2')\n",
    "elif age < 18:\n",
    "    print('$7')\n",
    "elif age <= 60:\n",
    "    print('$25')\n",
    "else:\n",
    "    print('$15')"
   ]
  },
  {
   "cell_type": "markdown",
   "id": "719d1d62",
   "metadata": {},
   "source": [
    "# For loop\n",
    "\n",
    "- Loops in python are used to do any similar task multiple times."
   ]
  },
  {
   "cell_type": "code",
   "execution_count": 29,
   "id": "5587acdc",
   "metadata": {},
   "outputs": [
    {
     "data": {
      "text/plain": [
       "[1,\n",
       " 2,\n",
       " 3,\n",
       " 4,\n",
       " 5,\n",
       " 6,\n",
       " 7,\n",
       " 8,\n",
       " 9,\n",
       " 10,\n",
       " 11,\n",
       " 12,\n",
       " 13,\n",
       " 14,\n",
       " 15,\n",
       " 16,\n",
       " 17,\n",
       " 18,\n",
       " 19,\n",
       " 20,\n",
       " 21,\n",
       " 22,\n",
       " 23,\n",
       " 24,\n",
       " 25,\n",
       " 26,\n",
       " 27,\n",
       " 28,\n",
       " 29,\n",
       " 30,\n",
       " 31,\n",
       " 32,\n",
       " 33,\n",
       " 34,\n",
       " 35,\n",
       " 36,\n",
       " 37,\n",
       " 38,\n",
       " 39,\n",
       " 40,\n",
       " 41,\n",
       " 42,\n",
       " 43,\n",
       " 44,\n",
       " 45,\n",
       " 46,\n",
       " 47,\n",
       " 48,\n",
       " 49,\n",
       " 50,\n",
       " 51,\n",
       " 52,\n",
       " 53,\n",
       " 54,\n",
       " 55,\n",
       " 56,\n",
       " 57,\n",
       " 58,\n",
       " 59,\n",
       " 60,\n",
       " 61,\n",
       " 62,\n",
       " 63,\n",
       " 64,\n",
       " 65,\n",
       " 66,\n",
       " 67,\n",
       " 68,\n",
       " 69,\n",
       " 70,\n",
       " 71,\n",
       " 72,\n",
       " 73,\n",
       " 74,\n",
       " 75,\n",
       " 76,\n",
       " 77,\n",
       " 78,\n",
       " 79,\n",
       " 80,\n",
       " 81,\n",
       " 82,\n",
       " 83,\n",
       " 84,\n",
       " 85,\n",
       " 86,\n",
       " 87,\n",
       " 88,\n",
       " 89,\n",
       " 90,\n",
       " 91,\n",
       " 92,\n",
       " 93,\n",
       " 94,\n",
       " 95,\n",
       " 96,\n",
       " 97,\n",
       " 98,\n",
       " 99]"
      ]
     },
     "execution_count": 29,
     "metadata": {},
     "output_type": "execute_result"
    }
   ],
   "source": [
    "#Get the list of values from 0 to 100\n",
    "\n",
    "list(range(1,100))"
   ]
  },
  {
   "cell_type": "code",
   "execution_count": 31,
   "id": "92a6dcbf-417d-4723-8edb-348686b78184",
   "metadata": {},
   "outputs": [
    {
     "name": "stdout",
     "output_type": "stream",
     "text": [
      "23716\n",
      "23716\n"
     ]
    }
   ],
   "source": [
    "print(154*154)\n",
    "print(154**2)"
   ]
  },
  {
   "cell_type": "code",
   "execution_count": 32,
   "id": "63993c4d",
   "metadata": {},
   "outputs": [
    {
     "name": "stdout",
     "output_type": "stream",
     "text": [
      "1\n",
      "2\n",
      "5\n",
      "6\n",
      "9\n",
      "7\n",
      "4\n",
      "5\n",
      "6\n",
      "55\n",
      "4\n",
      "7\n",
      "8\n",
      "9\n",
      "154\n",
      "4\n",
      "454\n"
     ]
    }
   ],
   "source": [
    "lst = [1,2,5,6,9,7,4,5,6,55,4,7,8,9,154,4,454]\n",
    "\n",
    "for i in lst:\n",
    "    print(i)"
   ]
  },
  {
   "cell_type": "code",
   "execution_count": 33,
   "id": "65191684",
   "metadata": {},
   "outputs": [
    {
     "name": "stdout",
     "output_type": "stream",
     "text": [
      "1\n",
      "4\n",
      "25\n",
      "36\n",
      "81\n",
      "49\n",
      "16\n",
      "25\n",
      "36\n",
      "3025\n",
      "16\n",
      "49\n",
      "64\n",
      "81\n",
      "23716\n",
      "16\n",
      "206116\n"
     ]
    }
   ],
   "source": [
    "for i in lst:\n",
    "    print(i**2)"
   ]
  },
  {
   "cell_type": "code",
   "execution_count": 34,
   "id": "02242210-bbd5-4b6d-9c3c-d6c28a5f38aa",
   "metadata": {},
   "outputs": [
    {
     "name": "stdout",
     "output_type": "stream",
     "text": [
      "625\n",
      "676\n",
      "729\n",
      "784\n",
      "841\n",
      "900\n",
      "961\n",
      "1024\n",
      "1089\n",
      "1156\n",
      "1225\n",
      "1296\n",
      "1369\n",
      "1444\n",
      "1521\n",
      "1600\n",
      "1681\n",
      "1764\n",
      "1849\n",
      "1936\n",
      "2025\n",
      "2116\n",
      "2209\n",
      "2304\n",
      "2401\n",
      "2500\n"
     ]
    }
   ],
   "source": [
    "for i in range(25,51):\n",
    "    print(i**2)"
   ]
  },
  {
   "cell_type": "code",
   "execution_count": 36,
   "id": "c7d44530",
   "metadata": {},
   "outputs": [
    {
     "data": {
      "text/plain": [
       "'Python Session'"
      ]
     },
     "execution_count": 36,
     "metadata": {},
     "output_type": "execute_result"
    }
   ],
   "source": [
    "#Sting concatenation\n",
    "\n",
    "word1 = 'Python'\n",
    "word2 = 'Session'\n",
    "word1+' '+word2"
   ]
  },
  {
   "cell_type": "code",
   "execution_count": 37,
   "id": "d1109c72",
   "metadata": {},
   "outputs": [
    {
     "data": {
      "text/plain": [
       "['amazon', 'flipkart', 'excelr', 'myntra', 'samsung', 'apple']"
      ]
     },
     "execution_count": 37,
     "metadata": {},
     "output_type": "execute_result"
    }
   ],
   "source": [
    "company = ['amazon','flipkart','excelr','myntra','samsung','apple']\n",
    "company"
   ]
  },
  {
   "cell_type": "code",
   "execution_count": 38,
   "id": "ca673eff",
   "metadata": {},
   "outputs": [
    {
     "name": "stdout",
     "output_type": "stream",
     "text": [
      "www.amazon.com\n",
      "www.flipkart.com\n",
      "www.excelr.com\n",
      "www.myntra.com\n",
      "www.samsung.com\n",
      "www.apple.com\n"
     ]
    }
   ],
   "source": [
    "for i in company:\n",
    "    print('www.'+i+'.com')"
   ]
  },
  {
   "cell_type": "markdown",
   "id": "76dbbacd",
   "metadata": {},
   "source": [
    "- Separetly store all even values in list called as even.\n",
    "- store aall odd numbers in diff list called as odd.\n",
    "- range 0,500"
   ]
  },
  {
   "cell_type": "code",
   "execution_count": 39,
   "id": "a3134bf6",
   "metadata": {},
   "outputs": [
    {
     "name": "stdout",
     "output_type": "stream",
     "text": [
      "0\n",
      "1\n",
      "2\n",
      "3\n",
      "4\n",
      "5\n",
      "6\n",
      "7\n",
      "8\n",
      "9\n",
      "10\n",
      "11\n",
      "12\n",
      "13\n",
      "14\n",
      "15\n",
      "16\n",
      "17\n",
      "18\n",
      "19\n",
      "20\n",
      "21\n",
      "22\n",
      "23\n",
      "24\n",
      "25\n",
      "26\n",
      "27\n",
      "28\n",
      "29\n",
      "30\n",
      "31\n",
      "32\n",
      "33\n",
      "34\n",
      "35\n",
      "36\n",
      "37\n",
      "38\n",
      "39\n",
      "40\n",
      "41\n",
      "42\n",
      "43\n",
      "44\n",
      "45\n",
      "46\n",
      "47\n",
      "48\n",
      "49\n",
      "50\n",
      "51\n",
      "52\n",
      "53\n",
      "54\n",
      "55\n",
      "56\n",
      "57\n",
      "58\n",
      "59\n",
      "60\n",
      "61\n",
      "62\n",
      "63\n",
      "64\n",
      "65\n",
      "66\n",
      "67\n",
      "68\n",
      "69\n",
      "70\n",
      "71\n",
      "72\n",
      "73\n",
      "74\n",
      "75\n",
      "76\n",
      "77\n",
      "78\n",
      "79\n",
      "80\n",
      "81\n",
      "82\n",
      "83\n",
      "84\n",
      "85\n",
      "86\n",
      "87\n",
      "88\n",
      "89\n",
      "90\n",
      "91\n",
      "92\n",
      "93\n",
      "94\n",
      "95\n",
      "96\n",
      "97\n",
      "98\n",
      "99\n",
      "100\n",
      "101\n",
      "102\n",
      "103\n",
      "104\n",
      "105\n",
      "106\n",
      "107\n",
      "108\n",
      "109\n",
      "110\n",
      "111\n",
      "112\n",
      "113\n",
      "114\n",
      "115\n",
      "116\n",
      "117\n",
      "118\n",
      "119\n",
      "120\n",
      "121\n",
      "122\n",
      "123\n",
      "124\n",
      "125\n",
      "126\n",
      "127\n",
      "128\n",
      "129\n",
      "130\n",
      "131\n",
      "132\n",
      "133\n",
      "134\n",
      "135\n",
      "136\n",
      "137\n",
      "138\n",
      "139\n",
      "140\n",
      "141\n",
      "142\n",
      "143\n",
      "144\n",
      "145\n",
      "146\n",
      "147\n",
      "148\n",
      "149\n",
      "150\n",
      "151\n",
      "152\n",
      "153\n",
      "154\n",
      "155\n",
      "156\n",
      "157\n",
      "158\n",
      "159\n",
      "160\n",
      "161\n",
      "162\n",
      "163\n",
      "164\n",
      "165\n",
      "166\n",
      "167\n",
      "168\n",
      "169\n",
      "170\n",
      "171\n",
      "172\n",
      "173\n",
      "174\n",
      "175\n",
      "176\n",
      "177\n",
      "178\n",
      "179\n",
      "180\n",
      "181\n",
      "182\n",
      "183\n",
      "184\n",
      "185\n",
      "186\n",
      "187\n",
      "188\n",
      "189\n",
      "190\n",
      "191\n",
      "192\n",
      "193\n",
      "194\n",
      "195\n",
      "196\n",
      "197\n",
      "198\n",
      "199\n",
      "200\n",
      "201\n",
      "202\n",
      "203\n",
      "204\n",
      "205\n",
      "206\n",
      "207\n",
      "208\n",
      "209\n",
      "210\n",
      "211\n",
      "212\n",
      "213\n",
      "214\n",
      "215\n",
      "216\n",
      "217\n",
      "218\n",
      "219\n",
      "220\n",
      "221\n",
      "222\n",
      "223\n",
      "224\n",
      "225\n",
      "226\n",
      "227\n",
      "228\n",
      "229\n",
      "230\n",
      "231\n",
      "232\n",
      "233\n",
      "234\n",
      "235\n",
      "236\n",
      "237\n",
      "238\n",
      "239\n",
      "240\n",
      "241\n",
      "242\n",
      "243\n",
      "244\n",
      "245\n",
      "246\n",
      "247\n",
      "248\n",
      "249\n",
      "250\n",
      "251\n",
      "252\n",
      "253\n",
      "254\n",
      "255\n",
      "256\n",
      "257\n",
      "258\n",
      "259\n",
      "260\n",
      "261\n",
      "262\n",
      "263\n",
      "264\n",
      "265\n",
      "266\n",
      "267\n",
      "268\n",
      "269\n",
      "270\n",
      "271\n",
      "272\n",
      "273\n",
      "274\n",
      "275\n",
      "276\n",
      "277\n",
      "278\n",
      "279\n",
      "280\n",
      "281\n",
      "282\n",
      "283\n",
      "284\n",
      "285\n",
      "286\n",
      "287\n",
      "288\n",
      "289\n",
      "290\n",
      "291\n",
      "292\n",
      "293\n",
      "294\n",
      "295\n",
      "296\n",
      "297\n",
      "298\n",
      "299\n",
      "300\n",
      "301\n",
      "302\n",
      "303\n",
      "304\n",
      "305\n",
      "306\n",
      "307\n",
      "308\n",
      "309\n",
      "310\n",
      "311\n",
      "312\n",
      "313\n",
      "314\n",
      "315\n",
      "316\n",
      "317\n",
      "318\n",
      "319\n",
      "320\n",
      "321\n",
      "322\n",
      "323\n",
      "324\n",
      "325\n",
      "326\n",
      "327\n",
      "328\n",
      "329\n",
      "330\n",
      "331\n",
      "332\n",
      "333\n",
      "334\n",
      "335\n",
      "336\n",
      "337\n",
      "338\n",
      "339\n",
      "340\n",
      "341\n",
      "342\n",
      "343\n",
      "344\n",
      "345\n",
      "346\n",
      "347\n",
      "348\n",
      "349\n",
      "350\n",
      "351\n",
      "352\n",
      "353\n",
      "354\n",
      "355\n",
      "356\n",
      "357\n",
      "358\n",
      "359\n",
      "360\n",
      "361\n",
      "362\n",
      "363\n",
      "364\n",
      "365\n",
      "366\n",
      "367\n",
      "368\n",
      "369\n",
      "370\n",
      "371\n",
      "372\n",
      "373\n",
      "374\n",
      "375\n",
      "376\n",
      "377\n",
      "378\n",
      "379\n",
      "380\n",
      "381\n",
      "382\n",
      "383\n",
      "384\n",
      "385\n",
      "386\n",
      "387\n",
      "388\n",
      "389\n",
      "390\n",
      "391\n",
      "392\n",
      "393\n",
      "394\n",
      "395\n",
      "396\n",
      "397\n",
      "398\n",
      "399\n",
      "400\n",
      "401\n",
      "402\n",
      "403\n",
      "404\n",
      "405\n",
      "406\n",
      "407\n",
      "408\n",
      "409\n",
      "410\n",
      "411\n",
      "412\n",
      "413\n",
      "414\n",
      "415\n",
      "416\n",
      "417\n",
      "418\n",
      "419\n",
      "420\n",
      "421\n",
      "422\n",
      "423\n",
      "424\n",
      "425\n",
      "426\n",
      "427\n",
      "428\n",
      "429\n",
      "430\n",
      "431\n",
      "432\n",
      "433\n",
      "434\n",
      "435\n",
      "436\n",
      "437\n",
      "438\n",
      "439\n",
      "440\n",
      "441\n",
      "442\n",
      "443\n",
      "444\n",
      "445\n",
      "446\n",
      "447\n",
      "448\n",
      "449\n",
      "450\n",
      "451\n",
      "452\n",
      "453\n",
      "454\n",
      "455\n",
      "456\n",
      "457\n",
      "458\n",
      "459\n",
      "460\n",
      "461\n",
      "462\n",
      "463\n",
      "464\n",
      "465\n",
      "466\n",
      "467\n",
      "468\n",
      "469\n",
      "470\n",
      "471\n",
      "472\n",
      "473\n",
      "474\n",
      "475\n",
      "476\n",
      "477\n",
      "478\n",
      "479\n",
      "480\n",
      "481\n",
      "482\n",
      "483\n",
      "484\n",
      "485\n",
      "486\n",
      "487\n",
      "488\n",
      "489\n",
      "490\n",
      "491\n",
      "492\n",
      "493\n",
      "494\n",
      "495\n",
      "496\n",
      "497\n",
      "498\n",
      "499\n",
      "500\n"
     ]
    }
   ],
   "source": [
    "for i in range(0,501):\n",
    "    print(i)"
   ]
  },
  {
   "cell_type": "code",
   "execution_count": 40,
   "id": "7055e17a",
   "metadata": {},
   "outputs": [
    {
     "data": {
      "text/plain": [
       "([], [])"
      ]
     },
     "execution_count": 40,
     "metadata": {},
     "output_type": "execute_result"
    }
   ],
   "source": [
    "even = []\n",
    "odd = []\n",
    "even ,odd   "
   ]
  },
  {
   "cell_type": "code",
   "execution_count": 44,
   "id": "70d579db-95bd-4cfb-a83e-f5e2ff7cab59",
   "metadata": {},
   "outputs": [
    {
     "data": {
      "text/plain": [
       "1"
      ]
     },
     "execution_count": 44,
     "metadata": {},
     "output_type": "execute_result"
    }
   ],
   "source": [
    "48798797979797%2"
   ]
  },
  {
   "cell_type": "code",
   "execution_count": 45,
   "id": "ef1f3a8d-ac18-41e3-b941-17ea1a638bd5",
   "metadata": {},
   "outputs": [],
   "source": [
    "for i in range(0,501):\n",
    "    if i%2 == 0:\n",
    "        even.append(i)\n",
    "    else:\n",
    "        odd.append(i)  "
   ]
  },
  {
   "cell_type": "code",
   "execution_count": 46,
   "id": "3c62cc68",
   "metadata": {},
   "outputs": [
    {
     "data": {
      "text/plain": [
       "[0,\n",
       " 2,\n",
       " 4,\n",
       " 6,\n",
       " 8,\n",
       " 10,\n",
       " 12,\n",
       " 14,\n",
       " 16,\n",
       " 18,\n",
       " 20,\n",
       " 22,\n",
       " 24,\n",
       " 26,\n",
       " 28,\n",
       " 30,\n",
       " 32,\n",
       " 34,\n",
       " 36,\n",
       " 38,\n",
       " 40,\n",
       " 42,\n",
       " 44,\n",
       " 46,\n",
       " 48,\n",
       " 50,\n",
       " 52,\n",
       " 54,\n",
       " 56,\n",
       " 58,\n",
       " 60,\n",
       " 62,\n",
       " 64,\n",
       " 66,\n",
       " 68,\n",
       " 70,\n",
       " 72,\n",
       " 74,\n",
       " 76,\n",
       " 78,\n",
       " 80,\n",
       " 82,\n",
       " 84,\n",
       " 86,\n",
       " 88,\n",
       " 90,\n",
       " 92,\n",
       " 94,\n",
       " 96,\n",
       " 98,\n",
       " 100,\n",
       " 102,\n",
       " 104,\n",
       " 106,\n",
       " 108,\n",
       " 110,\n",
       " 112,\n",
       " 114,\n",
       " 116,\n",
       " 118,\n",
       " 120,\n",
       " 122,\n",
       " 124,\n",
       " 126,\n",
       " 128,\n",
       " 130,\n",
       " 132,\n",
       " 134,\n",
       " 136,\n",
       " 138,\n",
       " 140,\n",
       " 142,\n",
       " 144,\n",
       " 146,\n",
       " 148,\n",
       " 150,\n",
       " 152,\n",
       " 154,\n",
       " 156,\n",
       " 158,\n",
       " 160,\n",
       " 162,\n",
       " 164,\n",
       " 166,\n",
       " 168,\n",
       " 170,\n",
       " 172,\n",
       " 174,\n",
       " 176,\n",
       " 178,\n",
       " 180,\n",
       " 182,\n",
       " 184,\n",
       " 186,\n",
       " 188,\n",
       " 190,\n",
       " 192,\n",
       " 194,\n",
       " 196,\n",
       " 198,\n",
       " 200,\n",
       " 202,\n",
       " 204,\n",
       " 206,\n",
       " 208,\n",
       " 210,\n",
       " 212,\n",
       " 214,\n",
       " 216,\n",
       " 218,\n",
       " 220,\n",
       " 222,\n",
       " 224,\n",
       " 226,\n",
       " 228,\n",
       " 230,\n",
       " 232,\n",
       " 234,\n",
       " 236,\n",
       " 238,\n",
       " 240,\n",
       " 242,\n",
       " 244,\n",
       " 246,\n",
       " 248,\n",
       " 250,\n",
       " 252,\n",
       " 254,\n",
       " 256,\n",
       " 258,\n",
       " 260,\n",
       " 262,\n",
       " 264,\n",
       " 266,\n",
       " 268,\n",
       " 270,\n",
       " 272,\n",
       " 274,\n",
       " 276,\n",
       " 278,\n",
       " 280,\n",
       " 282,\n",
       " 284,\n",
       " 286,\n",
       " 288,\n",
       " 290,\n",
       " 292,\n",
       " 294,\n",
       " 296,\n",
       " 298,\n",
       " 300,\n",
       " 302,\n",
       " 304,\n",
       " 306,\n",
       " 308,\n",
       " 310,\n",
       " 312,\n",
       " 314,\n",
       " 316,\n",
       " 318,\n",
       " 320,\n",
       " 322,\n",
       " 324,\n",
       " 326,\n",
       " 328,\n",
       " 330,\n",
       " 332,\n",
       " 334,\n",
       " 336,\n",
       " 338,\n",
       " 340,\n",
       " 342,\n",
       " 344,\n",
       " 346,\n",
       " 348,\n",
       " 350,\n",
       " 352,\n",
       " 354,\n",
       " 356,\n",
       " 358,\n",
       " 360,\n",
       " 362,\n",
       " 364,\n",
       " 366,\n",
       " 368,\n",
       " 370,\n",
       " 372,\n",
       " 374,\n",
       " 376,\n",
       " 378,\n",
       " 380,\n",
       " 382,\n",
       " 384,\n",
       " 386,\n",
       " 388,\n",
       " 390,\n",
       " 392,\n",
       " 394,\n",
       " 396,\n",
       " 398,\n",
       " 400,\n",
       " 402,\n",
       " 404,\n",
       " 406,\n",
       " 408,\n",
       " 410,\n",
       " 412,\n",
       " 414,\n",
       " 416,\n",
       " 418,\n",
       " 420,\n",
       " 422,\n",
       " 424,\n",
       " 426,\n",
       " 428,\n",
       " 430,\n",
       " 432,\n",
       " 434,\n",
       " 436,\n",
       " 438,\n",
       " 440,\n",
       " 442,\n",
       " 444,\n",
       " 446,\n",
       " 448,\n",
       " 450,\n",
       " 452,\n",
       " 454,\n",
       " 456,\n",
       " 458,\n",
       " 460,\n",
       " 462,\n",
       " 464,\n",
       " 466,\n",
       " 468,\n",
       " 470,\n",
       " 472,\n",
       " 474,\n",
       " 476,\n",
       " 478,\n",
       " 480,\n",
       " 482,\n",
       " 484,\n",
       " 486,\n",
       " 488,\n",
       " 490,\n",
       " 492,\n",
       " 494,\n",
       " 496,\n",
       " 498,\n",
       " 500]"
      ]
     },
     "execution_count": 46,
     "metadata": {},
     "output_type": "execute_result"
    }
   ],
   "source": [
    "even"
   ]
  },
  {
   "cell_type": "code",
   "execution_count": 47,
   "id": "e43b3b39",
   "metadata": {},
   "outputs": [
    {
     "data": {
      "text/plain": [
       "[1,\n",
       " 3,\n",
       " 5,\n",
       " 7,\n",
       " 9,\n",
       " 11,\n",
       " 13,\n",
       " 15,\n",
       " 17,\n",
       " 19,\n",
       " 21,\n",
       " 23,\n",
       " 25,\n",
       " 27,\n",
       " 29,\n",
       " 31,\n",
       " 33,\n",
       " 35,\n",
       " 37,\n",
       " 39,\n",
       " 41,\n",
       " 43,\n",
       " 45,\n",
       " 47,\n",
       " 49,\n",
       " 51,\n",
       " 53,\n",
       " 55,\n",
       " 57,\n",
       " 59,\n",
       " 61,\n",
       " 63,\n",
       " 65,\n",
       " 67,\n",
       " 69,\n",
       " 71,\n",
       " 73,\n",
       " 75,\n",
       " 77,\n",
       " 79,\n",
       " 81,\n",
       " 83,\n",
       " 85,\n",
       " 87,\n",
       " 89,\n",
       " 91,\n",
       " 93,\n",
       " 95,\n",
       " 97,\n",
       " 99,\n",
       " 101,\n",
       " 103,\n",
       " 105,\n",
       " 107,\n",
       " 109,\n",
       " 111,\n",
       " 113,\n",
       " 115,\n",
       " 117,\n",
       " 119,\n",
       " 121,\n",
       " 123,\n",
       " 125,\n",
       " 127,\n",
       " 129,\n",
       " 131,\n",
       " 133,\n",
       " 135,\n",
       " 137,\n",
       " 139,\n",
       " 141,\n",
       " 143,\n",
       " 145,\n",
       " 147,\n",
       " 149,\n",
       " 151,\n",
       " 153,\n",
       " 155,\n",
       " 157,\n",
       " 159,\n",
       " 161,\n",
       " 163,\n",
       " 165,\n",
       " 167,\n",
       " 169,\n",
       " 171,\n",
       " 173,\n",
       " 175,\n",
       " 177,\n",
       " 179,\n",
       " 181,\n",
       " 183,\n",
       " 185,\n",
       " 187,\n",
       " 189,\n",
       " 191,\n",
       " 193,\n",
       " 195,\n",
       " 197,\n",
       " 199,\n",
       " 201,\n",
       " 203,\n",
       " 205,\n",
       " 207,\n",
       " 209,\n",
       " 211,\n",
       " 213,\n",
       " 215,\n",
       " 217,\n",
       " 219,\n",
       " 221,\n",
       " 223,\n",
       " 225,\n",
       " 227,\n",
       " 229,\n",
       " 231,\n",
       " 233,\n",
       " 235,\n",
       " 237,\n",
       " 239,\n",
       " 241,\n",
       " 243,\n",
       " 245,\n",
       " 247,\n",
       " 249,\n",
       " 251,\n",
       " 253,\n",
       " 255,\n",
       " 257,\n",
       " 259,\n",
       " 261,\n",
       " 263,\n",
       " 265,\n",
       " 267,\n",
       " 269,\n",
       " 271,\n",
       " 273,\n",
       " 275,\n",
       " 277,\n",
       " 279,\n",
       " 281,\n",
       " 283,\n",
       " 285,\n",
       " 287,\n",
       " 289,\n",
       " 291,\n",
       " 293,\n",
       " 295,\n",
       " 297,\n",
       " 299,\n",
       " 301,\n",
       " 303,\n",
       " 305,\n",
       " 307,\n",
       " 309,\n",
       " 311,\n",
       " 313,\n",
       " 315,\n",
       " 317,\n",
       " 319,\n",
       " 321,\n",
       " 323,\n",
       " 325,\n",
       " 327,\n",
       " 329,\n",
       " 331,\n",
       " 333,\n",
       " 335,\n",
       " 337,\n",
       " 339,\n",
       " 341,\n",
       " 343,\n",
       " 345,\n",
       " 347,\n",
       " 349,\n",
       " 351,\n",
       " 353,\n",
       " 355,\n",
       " 357,\n",
       " 359,\n",
       " 361,\n",
       " 363,\n",
       " 365,\n",
       " 367,\n",
       " 369,\n",
       " 371,\n",
       " 373,\n",
       " 375,\n",
       " 377,\n",
       " 379,\n",
       " 381,\n",
       " 383,\n",
       " 385,\n",
       " 387,\n",
       " 389,\n",
       " 391,\n",
       " 393,\n",
       " 395,\n",
       " 397,\n",
       " 399,\n",
       " 401,\n",
       " 403,\n",
       " 405,\n",
       " 407,\n",
       " 409,\n",
       " 411,\n",
       " 413,\n",
       " 415,\n",
       " 417,\n",
       " 419,\n",
       " 421,\n",
       " 423,\n",
       " 425,\n",
       " 427,\n",
       " 429,\n",
       " 431,\n",
       " 433,\n",
       " 435,\n",
       " 437,\n",
       " 439,\n",
       " 441,\n",
       " 443,\n",
       " 445,\n",
       " 447,\n",
       " 449,\n",
       " 451,\n",
       " 453,\n",
       " 455,\n",
       " 457,\n",
       " 459,\n",
       " 461,\n",
       " 463,\n",
       " 465,\n",
       " 467,\n",
       " 469,\n",
       " 471,\n",
       " 473,\n",
       " 475,\n",
       " 477,\n",
       " 479,\n",
       " 481,\n",
       " 483,\n",
       " 485,\n",
       " 487,\n",
       " 489,\n",
       " 491,\n",
       " 493,\n",
       " 495,\n",
       " 497,\n",
       " 499]"
      ]
     },
     "execution_count": 47,
     "metadata": {},
     "output_type": "execute_result"
    }
   ],
   "source": [
    "odd"
   ]
  },
  {
   "cell_type": "markdown",
   "id": "708b3f2a",
   "metadata": {},
   "source": [
    "# Functions\n",
    "\n",
    "- Python supports two types of function:\n",
    "    - Built in\n",
    "    - User defined"
   ]
  },
  {
   "cell_type": "code",
   "execution_count": null,
   "id": "0ebd31e3",
   "metadata": {},
   "outputs": [],
   "source": [
    "print(78)"
   ]
  },
  {
   "cell_type": "code",
   "execution_count": null,
   "id": "ec903f4d",
   "metadata": {},
   "outputs": [],
   "source": [
    "def greet():\n",
    "    print('Hello User')"
   ]
  },
  {
   "cell_type": "code",
   "execution_count": null,
   "id": "55b756e7",
   "metadata": {},
   "outputs": [],
   "source": [
    "greet()"
   ]
  },
  {
   "cell_type": "code",
   "execution_count": null,
   "id": "3c6cd0b2",
   "metadata": {},
   "outputs": [],
   "source": [
    "def add():\n",
    "    print(5+357684)\n",
    "    \n",
    "add(10,5)"
   ]
  },
  {
   "cell_type": "code",
   "execution_count": null,
   "id": "f9f7e5da",
   "metadata": {},
   "outputs": [],
   "source": [
    "#With arguments\n",
    "\n",
    "def add(num1,num2):\n",
    "    print(num1+num2)"
   ]
  },
  {
   "cell_type": "code",
   "execution_count": null,
   "id": "dc9d611b",
   "metadata": {},
   "outputs": [],
   "source": [
    "add(68984,354688)"
   ]
  },
  {
   "cell_type": "markdown",
   "id": "d1bec664",
   "metadata": {},
   "source": [
    "# Format string"
   ]
  },
  {
   "cell_type": "code",
   "execution_count": null,
   "id": "f21ff249",
   "metadata": {},
   "outputs": [],
   "source": [
    "name = 'Ankit'\n",
    "age = 25\n",
    "location = \"pune\""
   ]
  },
  {
   "cell_type": "markdown",
   "id": "5e6a967f",
   "metadata": {},
   "source": [
    "- Print a sentence: Name of customer 'name'. He is 'age' yrs old. He lives in 'Location'"
   ]
  },
  {
   "cell_type": "code",
   "execution_count": null,
   "id": "6148e33b",
   "metadata": {},
   "outputs": [],
   "source": [
    "print('Name of customer name. He is age yrs old. He live in location.')\n",
    "print('Name of customer',name,'He is',age,'yrs old.','He lives in ',location)"
   ]
  },
  {
   "cell_type": "code",
   "execution_count": null,
   "id": "b3578a71",
   "metadata": {},
   "outputs": [],
   "source": [
    "#format string\n",
    "\n",
    "print(f\"Name of customer is {name}.He is {age} yrs old. He lives in {location} \")"
   ]
  },
  {
   "cell_type": "code",
   "execution_count": null,
   "id": "30662b39",
   "metadata": {},
   "outputs": [],
   "source": []
  }
 ],
 "metadata": {
  "kernelspec": {
   "display_name": "Python 3 (ipykernel)",
   "language": "python",
   "name": "python3"
  },
  "language_info": {
   "codemirror_mode": {
    "name": "ipython",
    "version": 3
   },
   "file_extension": ".py",
   "mimetype": "text/x-python",
   "name": "python",
   "nbconvert_exporter": "python",
   "pygments_lexer": "ipython3",
   "version": "3.11.5"
  }
 },
 "nbformat": 4,
 "nbformat_minor": 5
}
